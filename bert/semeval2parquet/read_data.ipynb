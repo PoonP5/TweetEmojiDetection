{
 "cells": [
  {
   "cell_type": "code",
   "execution_count": 103,
   "metadata": {},
   "outputs": [],
   "source": [
    "import pandas as pd\n",
    "import uuid"
   ]
  },
  {
   "cell_type": "code",
   "execution_count": 104,
   "metadata": {},
   "outputs": [],
   "source": [
    "name = 'test' "
   ]
  },
  {
   "cell_type": "code",
   "execution_count": 105,
   "metadata": {},
   "outputs": [],
   "source": [
    "file_text = f'us_{name}.text'\n",
    "file_label = f'us_{name}.labels'"
   ]
  },
  {
   "cell_type": "code",
   "execution_count": 106,
   "metadata": {},
   "outputs": [],
   "source": [
    "with open(file_text, 'r', encoding='UTF-8') as file:\n",
    "    text = [line.rstrip() for line in file]\n",
    "with open(file_label, 'r', encoding='UTF-8') as file:\n",
    "    label = [line.rstrip() for line in file]"
   ]
  },
  {
   "cell_type": "code",
   "execution_count": 107,
   "metadata": {},
   "outputs": [],
   "source": [
    "df = pd.DataFrame({'text': text,'label': label})"
   ]
  },
  {
   "cell_type": "code",
   "execution_count": 108,
   "metadata": {},
   "outputs": [],
   "source": [
    "df['label'] = df['label'].astype('category')"
   ]
  },
  {
   "cell_type": "code",
   "execution_count": 109,
   "metadata": {},
   "outputs": [],
   "source": [
    "df['id'] = str(uuid.uuid4())"
   ]
  },
  {
   "cell_type": "code",
   "execution_count": 110,
   "metadata": {},
   "outputs": [],
   "source": [
    "df['tokens'] = df['text'].str.split(' ')"
   ]
  },
  {
   "cell_type": "code",
   "execution_count": 111,
   "metadata": {},
   "outputs": [],
   "source": [
    "df['size'] = df.tokens.apply(lambda x: len(x))"
   ]
  },
  {
   "cell_type": "code",
   "execution_count": 112,
   "metadata": {},
   "outputs": [],
   "source": [
    "df['span'] = df['size']"
   ]
  },
  {
   "cell_type": "code",
   "execution_count": 113,
   "metadata": {},
   "outputs": [],
   "source": [
    "df['span'] = pd.DataFrame([str([0,y]) for y in df['size']])"
   ]
  },
  {
   "cell_type": "code",
   "execution_count": 115,
   "metadata": {},
   "outputs": [],
   "source": [
    "df = df.set_index('id').drop(['tokens', 'size'], axis=1)"
   ]
  },
  {
   "cell_type": "code",
   "execution_count": 116,
   "metadata": {},
   "outputs": [
    {
     "data": {
      "text/html": [
       "<div>\n",
       "<style scoped>\n",
       "    .dataframe tbody tr th:only-of-type {\n",
       "        vertical-align: middle;\n",
       "    }\n",
       "\n",
       "    .dataframe tbody tr th {\n",
       "        vertical-align: top;\n",
       "    }\n",
       "\n",
       "    .dataframe thead th {\n",
       "        text-align: right;\n",
       "    }\n",
       "</style>\n",
       "<table border=\"1\" class=\"dataframe\">\n",
       "  <thead>\n",
       "    <tr style=\"text-align: right;\">\n",
       "      <th></th>\n",
       "      <th>text</th>\n",
       "      <th>label</th>\n",
       "      <th>span</th>\n",
       "    </tr>\n",
       "    <tr>\n",
       "      <th>id</th>\n",
       "      <th></th>\n",
       "      <th></th>\n",
       "      <th></th>\n",
       "    </tr>\n",
       "  </thead>\n",
       "  <tbody>\n",
       "    <tr>\n",
       "      <th>e172ea33-96f5-42a6-ae38-dd37a8d86342</th>\n",
       "      <td>en Pelham Parkway</td>\n",
       "      <td>2</td>\n",
       "      <td>[0, 3]</td>\n",
       "    </tr>\n",
       "    <tr>\n",
       "      <th>e172ea33-96f5-42a6-ae38-dd37a8d86342</th>\n",
       "      <td>The calm before...... | w/ sofarsounds @user |...</td>\n",
       "      <td>10</td>\n",
       "      <td>[0, 11]</td>\n",
       "    </tr>\n",
       "    <tr>\n",
       "      <th>e172ea33-96f5-42a6-ae38-dd37a8d86342</th>\n",
       "      <td>Just witnessed the great solar eclipse @ Tampa...</td>\n",
       "      <td>6</td>\n",
       "      <td>[0, 9]</td>\n",
       "    </tr>\n",
       "    <tr>\n",
       "      <th>e172ea33-96f5-42a6-ae38-dd37a8d86342</th>\n",
       "      <td>This little lady is 26 weeks pregnant today! E...</td>\n",
       "      <td>1</td>\n",
       "      <td>[0, 16]</td>\n",
       "    </tr>\n",
       "    <tr>\n",
       "      <th>e172ea33-96f5-42a6-ae38-dd37a8d86342</th>\n",
       "      <td>Great road trip views! @ Shartlesville, Pennsy...</td>\n",
       "      <td>16</td>\n",
       "      <td>[0, 7]</td>\n",
       "    </tr>\n",
       "    <tr>\n",
       "      <th>...</th>\n",
       "      <td>...</td>\n",
       "      <td>...</td>\n",
       "      <td>...</td>\n",
       "    </tr>\n",
       "    <tr>\n",
       "      <th>e172ea33-96f5-42a6-ae38-dd37a8d86342</th>\n",
       "      <td>@user @user @user #la #westhollywood #dtboy #l...</td>\n",
       "      <td>5</td>\n",
       "      <td>[0, 9]</td>\n",
       "    </tr>\n",
       "    <tr>\n",
       "      <th>e172ea33-96f5-42a6-ae38-dd37a8d86342</th>\n",
       "      <td>Climbing subway stairs. That was nothing. #sta...</td>\n",
       "      <td>19</td>\n",
       "      <td>[0, 10]</td>\n",
       "    </tr>\n",
       "    <tr>\n",
       "      <th>e172ea33-96f5-42a6-ae38-dd37a8d86342</th>\n",
       "      <td>Pops with Ms Drina at The Swanees Anniversary ...</td>\n",
       "      <td>6</td>\n",
       "      <td>[0, 13]</td>\n",
       "    </tr>\n",
       "    <tr>\n",
       "      <th>e172ea33-96f5-42a6-ae38-dd37a8d86342</th>\n",
       "      <td>We love ️ Soren! July 26, 2017 was her first d...</td>\n",
       "      <td>0</td>\n",
       "      <td>[0, 21]</td>\n",
       "    </tr>\n",
       "    <tr>\n",
       "      <th>e172ea33-96f5-42a6-ae38-dd37a8d86342</th>\n",
       "      <td>Waiting in line for #TheRoom ! #PrepareForDisa...</td>\n",
       "      <td>2</td>\n",
       "      <td>[0, 8]</td>\n",
       "    </tr>\n",
       "  </tbody>\n",
       "</table>\n",
       "<p>50000 rows × 3 columns</p>\n",
       "</div>"
      ],
      "text/plain": [
       "                                                                                   text  \\\n",
       "id                                                                                        \n",
       "e172ea33-96f5-42a6-ae38-dd37a8d86342                                  en Pelham Parkway   \n",
       "e172ea33-96f5-42a6-ae38-dd37a8d86342  The calm before...... | w/ sofarsounds @user |...   \n",
       "e172ea33-96f5-42a6-ae38-dd37a8d86342  Just witnessed the great solar eclipse @ Tampa...   \n",
       "e172ea33-96f5-42a6-ae38-dd37a8d86342  This little lady is 26 weeks pregnant today! E...   \n",
       "e172ea33-96f5-42a6-ae38-dd37a8d86342  Great road trip views! @ Shartlesville, Pennsy...   \n",
       "...                                                                                 ...   \n",
       "e172ea33-96f5-42a6-ae38-dd37a8d86342  @user @user @user #la #westhollywood #dtboy #l...   \n",
       "e172ea33-96f5-42a6-ae38-dd37a8d86342  Climbing subway stairs. That was nothing. #sta...   \n",
       "e172ea33-96f5-42a6-ae38-dd37a8d86342  Pops with Ms Drina at The Swanees Anniversary ...   \n",
       "e172ea33-96f5-42a6-ae38-dd37a8d86342  We love ️ Soren! July 26, 2017 was her first d...   \n",
       "e172ea33-96f5-42a6-ae38-dd37a8d86342  Waiting in line for #TheRoom ! #PrepareForDisa...   \n",
       "\n",
       "                                     label     span  \n",
       "id                                                   \n",
       "e172ea33-96f5-42a6-ae38-dd37a8d86342     2   [0, 3]  \n",
       "e172ea33-96f5-42a6-ae38-dd37a8d86342    10  [0, 11]  \n",
       "e172ea33-96f5-42a6-ae38-dd37a8d86342     6   [0, 9]  \n",
       "e172ea33-96f5-42a6-ae38-dd37a8d86342     1  [0, 16]  \n",
       "e172ea33-96f5-42a6-ae38-dd37a8d86342    16   [0, 7]  \n",
       "...                                    ...      ...  \n",
       "e172ea33-96f5-42a6-ae38-dd37a8d86342     5   [0, 9]  \n",
       "e172ea33-96f5-42a6-ae38-dd37a8d86342    19  [0, 10]  \n",
       "e172ea33-96f5-42a6-ae38-dd37a8d86342     6  [0, 13]  \n",
       "e172ea33-96f5-42a6-ae38-dd37a8d86342     0  [0, 21]  \n",
       "e172ea33-96f5-42a6-ae38-dd37a8d86342     2   [0, 8]  \n",
       "\n",
       "[50000 rows x 3 columns]"
      ]
     },
     "metadata": {},
     "output_type": "display_data"
    },
    {
     "data": {
      "text/plain": [
       "text       object\n",
       "label    category\n",
       "span       object\n",
       "dtype: object"
      ]
     },
     "metadata": {},
     "output_type": "display_data"
    }
   ],
   "source": [
    "display(df)\n",
    "display(df.dtypes)\n",
    "df.to_parquet(f'./us_{name}.parquet')"
   ]
  },
  {
   "cell_type": "code",
   "execution_count": null,
   "metadata": {},
   "outputs": [],
   "source": []
  }
 ],
 "metadata": {
  "kernelspec": {
   "display_name": "transformer",
   "language": "python",
   "name": "transformer"
  },
  "language_info": {
   "codemirror_mode": {
    "name": "ipython",
    "version": 3
   },
   "file_extension": ".py",
   "mimetype": "text/x-python",
   "name": "python",
   "nbconvert_exporter": "python",
   "pygments_lexer": "ipython3",
   "version": "3.10.13"
  }
 },
 "nbformat": 4,
 "nbformat_minor": 4
}
